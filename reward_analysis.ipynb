{
 "cells": [
  {
   "cell_type": "code",
   "execution_count": 3,
   "metadata": {},
   "outputs": [],
   "source": [
    "import os\n",
    "import torch\n",
    "from torchvision import transforms\n",
    "from  torchvision.ops import box_iou\n",
    "from util.augmentations import Compose\n",
    "from util.data_aug import *\n",
    "from transform import MyBoxTransform\n",
    "from matplotlib.patches import Rectangle\n",
    "import matplotlib.pyplot as plt\n",
    "import torchvision\n",
    "from util.actions_tree_noscale import Actor\n",
    "import torch.nn.functional as F\n",
    "from models.mnist_model import Net, EmbeddingNet, Agent\n",
    "from datasets.clutter_mnist_rl import MNIST_CoLoc\n",
    "from RL import get_policy_loss\n",
    "import matplotlib.ticker as ticker\n",
    "\n",
    "os.environ['CUDA_VISIBLE_DEVICES']='3'"
   ]
  },
  {
   "cell_type": "code",
   "execution_count": 2,
   "metadata": {},
   "outputs": [],
   "source": [
    "def init_dataloader():\n",
    "    kwargs = {'num_workers': 8, 'pin_memory': True}\n",
    "\n",
    "    train_transform = Compose([Resize(84)])\n",
    "    test_transform = Compose([Resize(84)])\n",
    "    trainset = MNIST_CoLoc(root='.', train=True, digit=4,\n",
    "                           datapath='/research/cbim/vast/tl601/Dataset/Synthesis_mnist',\n",
    "                           clutter=1, transform=train_transform,\n",
    "                           target_transform=MyBoxTransform(num=1))\n",
    "    testset = MNIST_CoLoc(root='.', train=False, digit=4,\n",
    "                          datapath='/research/cbim/vast/tl601/Dataset/Synthesis_mnist',\n",
    "                          clutter=1, transform=test_transform,\n",
    "                          target_transform=MyBoxTransform(num=1))\n",
    "\n",
    "    train_loader = torch.utils.data.DataLoader(\n",
    "        trainset, batch_size=512, shuffle=True, **kwargs)\n",
    "    test_loader = torch.utils.data.DataLoader(\n",
    "        testset, batch_size=512, shuffle=False, **kwargs)\n",
    "    print('total train image: ', len(train_loader.dataset), ' test image: ',\n",
    "          len(test_loader.dataset))\n",
    "    return train_loader, test_loader"
   ]
  },
  {
   "cell_type": "code",
   "execution_count": 4,
   "metadata": {},
   "outputs": [],
   "source": [
    "def init_model(hidden_size, norm, freeze=1):\n",
    "    embedding_net = EmbeddingNet(norm=norm)\n",
    "    net = Net(embedding_net, pooling_size=28,\n",
    "              pooling_mode='align').to(device)\n",
    "    agent = Agent(dim=1810, num_class=5,\n",
    "                  hidden_size=hidden_size).to(device)\n",
    "    # if load pretrained encoder\n",
    "    pretrained = 'cluttermnist_m60_trip_SGD_proto/best.pth.tar'\n",
    "    ckpt = torch.load(os.path.join('/research/cbim/vast/tl601/results/'\n",
    "                      'selfpaced/ordinal/',\n",
    "                      pretrained))\n",
    "    net.load_state_dict(ckpt['state_dict'])\n",
    "    print('loaded from {}\\nckpt epoch {} acc {:.2f}%'.format(pretrained,\n",
    "                                                ckpt['epoch'], ckpt['acc']))\n",
    "    if freeze == 1:\n",
    "        for name, value in net.named_parameters():\n",
    "            value.requires_grad = False\n",
    "\n",
    "    return net, agent\n"
   ]
  },
  {
   "cell_type": "code",
   "execution_count": 7,
   "metadata": {},
   "outputs": [
    {
     "name": "stdout",
     "output_type": "stream",
     "text": [
      "total train image:  5842  test image:  982\n",
      "loaded from cluttermnist_m60_trip_SGD_proto/best.pth.tar\n",
      "ckpt epoch 48 acc 91.65%\n",
      "loading ckpt from  /research/cbim/vast/tl601/results/selfpaced/ordinal/coloc_rl_sparse_seq15/best.pth.tar\n",
      "=> loaded checkpoint epoch 99 65.27494812011719\n"
     ]
    }
   ],
   "source": [
    "hidden_size = 24\n",
    "device = torch.device(\"cuda\" if torch.cuda.is_available() else \"cpu\")\n",
    "train_loader, test_loader = init_dataloader()\n",
    "model, agent = init_model(hidden_size=hidden_size, norm=0)\n",
    "\n",
    "# load model \n",
    "savename = 'coloc_rl_sparse_seq15'\n",
    "saveroot = '/research/cbim/vast/tl601/results/selfpaced/ordinal/'\n",
    "model_path = os.path.join(saveroot, savename, 'best.pth.tar')\n",
    "print('loading ckpt from ', model_path)\n",
    "ckpt = torch.load(model_path)\n",
    "state_dict = ckpt['state_dict']\n",
    "epoch = ckpt['epoch']\n",
    "best_loss = ckpt['acc']\n",
    "agent.load_state_dict(state_dict)\n",
    "print((\"=> loaded checkpoint epoch {} {}\".format(epoch, best_loss)))"
   ]
  },
  {
   "cell_type": "code",
   "execution_count": 8,
   "metadata": {},
   "outputs": [],
   "source": [
    "# generate positive or negative boundbing boxes with fixed size 28*28 or random size\n",
    "FG_THRESH = 0.7\n",
    "BG_THRESH = 0.5\n",
    "MAX_ASPECT_RATIO = 6.00\n",
    "MIN_ASPECT_RATIO = 0.15\n",
    "def generate_random_rois_noscale(img_h, img_w, boxes, num, pos=True):\n",
    "    all_new_boxes = []\n",
    "\n",
    "    for j, box in enumerate(boxes.cpu()):\n",
    "        new_boxes = []\n",
    "        for i in range(num):\n",
    "            done = False\n",
    "            while not done:\n",
    "                width, height = 28, 28\n",
    "                x = np.random.randint(0, img_w-width)\n",
    "                y = np.random.randint(0, img_h-height)\n",
    "                #print('x ', x, ' y ', y)\n",
    "                x1, y1, x2, y2 = max(x, 0), max(0, y), \\\n",
    "                                min(img_w - 1, x + width-1), min(img_h - 1, y + height-1)\n",
    "                iou = box_iou(box.view(-1, 4),\n",
    "                              torch.tensor([[x1, y1, x2, y2]], dtype=torch.float32))\n",
    "                if pos:\n",
    "                    if iou > BG_THRESH:\n",
    "                        done = True\n",
    "                        break\n",
    "                else:\n",
    "                    if iou < BG_THRESH:\n",
    "                        done = True\n",
    "                        break\n",
    "            new_boxes.append(np.array([x1, y1, x2, y2]))\n",
    "\n",
    "        #print(j, ' ', len(new_boxes))\n",
    "        assert (len(new_boxes) == num)\n",
    "        all_new_boxes += new_boxes\n",
    "\n",
    "    all_new_boxes = np.stack(all_new_boxes)\n",
    "    all_new_boxes = torch.from_numpy(all_new_boxes).view(boxes.shape[0], -1, 4).float()\n",
    "    return all_new_boxes\n",
    "\n",
    "def generate_random_rois_scale(img_h, img_w, boxes, num, min_box_side, pos=False,\n",
    "                         scale=(0.08, 1.0), ratio=(MIN_ASPECT_RATIO,MAX_ASPECT_RATIO)):\n",
    "    \"\"\"\n",
    "        generate new negative rois with random size\n",
    "        :param img: tensor, (bs, c, h, w)\n",
    "        :param boxes: tensor, (bs, 4)\n",
    "        :param num: number of new boxes\n",
    "        :return: tensor, (bs, num, 5) new boxes (x1, y1, x2, y2)\n",
    "        \"\"\"\n",
    "    all_new_boxes = []\n",
    "\n",
    "    for j, box in enumerate(boxes.cpu()):\n",
    "\n",
    "        new_boxes = []\n",
    "        for i in range(num):\n",
    "            done = False\n",
    "            while not done:\n",
    "                width = np.random.randint(min_box_side, img_w+1)\n",
    "                height = np.random.randint(min_box_side, img_h+1)\n",
    "                ar = width / height\n",
    "                if MIN_ASPECT_RATIO < ar and ar < MAX_ASPECT_RATIO:\n",
    "                    # centered in image\n",
    "                    x = np.random.randint(0, img_w+1-width)\n",
    "                    y = np.random.randint(0, img_h+1-height)\n",
    "                    x1, y1, x2, y2 = max(x, 0), max(0, y), \\\n",
    "                                     min(img_w - 1, x + width-1), min(img_h - 1, y + height-1)\n",
    "                    iou = box_iou(box.view(-1, 4),\n",
    "                                  torch.tensor([[x1, y1, x2, y2]], dtype=torch.float32))\n",
    "                    if not pos:\n",
    "                        if iou < BG_THRESH:\n",
    "                            done = True\n",
    "                    else:\n",
    "                        if iou > BG_THRESH:\n",
    "                            done = True\n",
    "            new_boxes.append(np.array([x1, y1, x2, y2]))\n",
    "\n",
    "        #print(j, ' ', len(new_boxes))\n",
    "        assert (len(new_boxes) == num)\n",
    "        all_new_boxes += new_boxes\n",
    "\n",
    "    all_new_boxes = np.stack(all_new_boxes)\n",
    "    all_new_boxes = torch.from_numpy(all_new_boxes).view(boxes.shape[0], -1, 4).float()\n",
    "    return all_new_boxes"
   ]
  },
  {
   "cell_type": "code",
   "execution_count": 13,
   "metadata": {},
   "outputs": [
    {
     "name": "stdout",
     "output_type": "stream",
     "text": [
      "accs  [0.009765625, 0.01953125, 0.029296875, 0.0390625, 0.048828125, 0.05859375, 0.068359375, 0.078125, 0.08984375, 0.099609375]\n",
      "rewards  [491.923095703125, 494.317138671875, 486.5138244628906, 492.05316162109375, 480.22344970703125, 485.245361328125, 482.49755859375, 473.9894104003906, 476.3896484375, 470.7999267578125]\n"
     ]
    }
   ],
   "source": [
    "# calculate reward according to accuracy\n",
    "accs, rewards = [], []\n",
    "with torch.no_grad():\n",
    "    model.eval()\n",
    "    for i in range(1,100):\n",
    "        for batch_idx, (data_org, target_org, _, _) in enumerate(train_loader):\n",
    "            batch_size = data_org.shape[0]\n",
    "#             if batch_size < 512: \n",
    "#                 continue\n",
    "            data_org, target_org = data_org.to(device), target_org.to(device).float()\n",
    "            org_boxes = torch.tensor([[0, 0, 112, 112]]).float().repeat(batch_size, 1).to(device)\n",
    "            # randomly sample i% correct boxes, 1-i% negative boxes\n",
    "            num_pos = int(batch_size * i / 100.)\n",
    "            inds = np.random.permutation(batch_size)\n",
    "            inds_pos, inds_neg = inds[:num_pos], inds[num_pos:]\n",
    "            pred_boxes = torch.empty(batch_size, 4).to(device)\n",
    "            rois_pos = generate_random_rois_noscale(84, 84, target_org[inds_pos], \n",
    "                                             num=1, pos=True)\n",
    "            pred_boxes[inds_pos] = rois_pos.view(-1, 4).to(device)\n",
    "            #pred_boxes[inds_pos] = target_org[inds_pos, :-1]\n",
    "\n",
    "            rois_neg = generate_random_rois_noscale(84, 84, target_org[inds_neg], num=1,\n",
    "                                           pos=False)\n",
    "            pred_boxes[inds_neg] = rois_neg.view(-1, 4).to(device)\n",
    "        \n",
    "            # last iteration\n",
    "            rois_t = torch.cat((torch.arange(0, batch_size).float().view(-1, 1).to(device),\n",
    "                      target_org.to(device)), dim=1)\n",
    "            rois = torch.cat((torch.arange(0, batch_size).float().view(-1, 1).to(device),\n",
    "                      pred_boxes.to(device)), dim=1)\n",
    "            embed_t = model(data_org, rois_t)\n",
    "            embed = model(data_org, rois)\n",
    "            reward = F.pairwise_distance(embed_t, embed)\n",
    "            \n",
    "            \n",
    "            accs.append(float(num_pos) / batch_size)\n",
    "            rewards.append(reward.mean().item())\n",
    "            break\n",
    "print('accs ', accs[:10])\n",
    "print('rewards ', rewards[:10])"
   ]
  },
  {
   "cell_type": "code",
   "execution_count": 15,
   "metadata": {},
   "outputs": [
    {
     "data": {
      "text/plain": [
       "Text(0, 0.5, 'distance')"
      ]
     },
     "execution_count": 15,
     "metadata": {},
     "output_type": "execute_result"
    },
    {
     "data": {
      "image/png": "[encoded data removed]",
      "text/plain": [
       "<Figure size 432x288 with 1 Axes>"
      ]
     },
     "metadata": {
      "needs_background": "light"
     },
     "output_type": "display_data"
    }
   ],
   "source": [
    "fig = plt.figure()\n",
    "ax = plt.axes()\n",
    "ax.plot(accs, rewards)\n",
    "ax.set_xlabel('accuracy')\n",
    "ax.set_ylabel('distance')"
   ]
  },
  {
   "cell_type": "code",
   "execution_count": null,
   "metadata": {},
   "outputs": [],
   "source": []
  }
 ],
 "metadata": {
  "kernelspec": {
   "display_name": "Python 3",
   "language": "python",
   "name": "python3"
  },
  "language_info": {
   "codemirror_mode": {
    "name": "ipython",
    "version": 3
   },
   "file_extension": ".py",
   "mimetype": "text/x-python",
   "name": "python",
   "nbconvert_exporter": "python",
   "pygments_lexer": "ipython3",
   "version": "3.6.12"
  }
 },
 "nbformat": 4,
 "nbformat_minor": 4
}
