{
 "cells": [
  {
   "cell_type": "code",
   "execution_count": 1,
   "metadata": {},
   "outputs": [],
   "source": [
    "import os, wandb, cv2\n",
    "import torch, copy\n",
    "import numpy as np\n",
    "import torchvision\n",
    "import scipy.linalg as la\n",
    "import torch.nn as nn\n",
    "from util.utils import box_iou\n",
    "from matplotlib.patches import Rectangle\n",
    "import torch.nn.functional as F\n",
    "from itertools import product\n",
    "import matplotlib.pyplot as plt\n",
    "import numpy as np\n",
    "from transform import MyBoxScaleTransform\n",
    "from util.data_aug import *\n",
    "from util.bbox_util import *\n",
    "from util import joint_transforms as t\n",
    "from util.utils import box_iou\n",
    "from util.augmentations import Compose\n",
    "from opts import parser\n",
    "from datasets.clutter_mnist_scale_rl import MNIST_CoLoc\n",
    "from datasets.cub_fewshot_ddt import CUB_fewshot\n",
    "from models.mnist_scale_model import Net_DDT\n",
    "from util.utils import convert_image_np\n",
    "from constants import IMAGENET_MEAN, IMAGENET_STD\n",
    "import torchvision.models as models\n",
    "import matplotlib.cm as mpl_color_map\n",
    "from PIL import Image, ImageFilter"
   ]
  },
  {
   "cell_type": "code",
   "execution_count": 2,
   "metadata": {},
   "outputs": [],
   "source": [
    "os.environ['CUDA_VISIBLE_DEVICES']='3'\n",
    "device = torch.device(\"cuda\" if torch.cuda.is_available() else \"cpu\")\n",
    "DEBUG = True"
   ]
  },
  {
   "cell_type": "code",
   "execution_count": 3,
   "metadata": {},
   "outputs": [],
   "source": [
    "class UnNormalize(object):\n",
    "    def __init__(self, mean, std):\n",
    "        self.mean = mean\n",
    "        self.std = std\n",
    "\n",
    "    def __call__(self, tensor):\n",
    "        \"\"\"\n",
    "        Args:\n",
    "            tensor (Tensor): Tensor image of size (C, H, W) to be normalized.\n",
    "        Returns:\n",
    "            Tensor: Normalized image.\n",
    "        \"\"\"\n",
    "        for t, m, s in zip(tensor, self.mean, self.std):\n",
    "            t.mul_(s).add_(m)\n",
    "            # The normalize code -> t.sub_(m).div_(s)\n",
    "        return tensor"
   ]
  },
  {
   "cell_type": "code",
   "execution_count": 4,
   "metadata": {},
   "outputs": [],
   "source": [
    "def init_dataloader(dataset, img_size, digit=4, sample_size=50, bg_name='random_patch'):\n",
    "    kwargs = {'num_workers': 8, 'pin_memory': True}\n",
    "\n",
    "    if dataset == 'mnist':\n",
    "        train_transform = Compose([Resize(84)])\n",
    "        test_transform = Compose([Resize(84)])\n",
    "        trainset = MNIST_CoLoc(root='.', train=True, digit=digit,\n",
    "                               sample_size=sample_size, bg_name=bg_name,\n",
    "                               datapath='/research/cbim/vast/tl601/Dataset/Synthesis_mnist',\n",
    "                               clutter=1, transform=train_transform)\n",
    "        testset = MNIST_CoLoc(root='.', train=False, digit=digit,\n",
    "                              bg_name=bg_name,\n",
    "                              datapath='/research/cbim/vast/tl601/Dataset/Synthesis_mnist',\n",
    "                              clutter=1, transform=test_transform)\n",
    "    elif dataset == 'cub':\n",
    "        transform = t.Compose([\n",
    "            t.ConvertFromPIL(),\n",
    "            t.ToPercentCoords(),\n",
    "            t.Resize(img_size),\n",
    "            t.Normalize(IMAGENET_MEAN, IMAGENET_STD),\n",
    "            t.ToTensor()  # no change to (0, 1)\n",
    "        ])\n",
    "        trainset = CUB_fewshot('/research/cbim/vast/tl601/Dataset/CUB_200_2011',\n",
    "                               mode='base', img_size=img_size, loose=0, bg_name=bg_name, \n",
    "                               transform=transform)\n",
    "        testset = CUB_fewshot('/research/cbim/vast/tl601/Dataset/CUB_200_2011',\n",
    "                              mode='val', img_size=img_size, loose=0,bg_name=bg_name, \n",
    "                              transform=transform)\n",
    "\n",
    "    train_loader = torch.utils.data.DataLoader(\n",
    "        trainset, batch_size=512, shuffle=False, **kwargs)\n",
    "    test_loader = torch.utils.data.DataLoader(\n",
    "        testset, batch_size=512, shuffle=False, **kwargs)\n",
    "    print('total train image: ', len(train_loader.dataset), ' test image: ',\n",
    "          len(test_loader.dataset))\n",
    "    return train_loader, test_loader\n"
   ]
  },
  {
   "cell_type": "code",
   "execution_count": 5,
   "metadata": {},
   "outputs": [],
   "source": [
    "def init_model(dataset, pretrained=None, freeze=1):\n",
    "    if dataset == 'mnist':\n",
    "        net = Net_DDT()\n",
    "        # if load pretrained encoder\n",
    "        if pretrained != '':\n",
    "            ckpt = torch.load(os.path.join('/research/cbim/vast/tl601/results/'\n",
    "                                           'mnist/', pretrained))\n",
    "            if 'state_dict' in ckpt.keys():\n",
    "                mnist_pretrained_dict = ckpt['state_dict']\n",
    "            else:\n",
    "                mnist_pretrained_dict = ckpt\n",
    "            embeddingnet_dict = net.state_dict()\n",
    "\n",
    "            filtered_dict = {}\n",
    "            for k, v in mnist_pretrained_dict.items():\n",
    "                if k in embeddingnet_dict:\n",
    "                    print('load ', k)\n",
    "                    filtered_dict[k] = v\n",
    "            embeddingnet_dict.update(filtered_dict)\n",
    "            net.load_state_dict(embeddingnet_dict)\n",
    "            if 'state_dict' in ckpt.keys():\n",
    "                if 'acc_inst' in ckpt.keys():\n",
    "                    print('loaded from {}\\nckpt epoch {} acc {:.2f}%'.format(pretrained,\n",
    "                                                                             ckpt['epoch'], ckpt['acc_inst']))\n",
    "                else:\n",
    "                    print('loaded from {}\\nckpt epoch {} acc {:.2f}%'.format(pretrained,\n",
    "                                                                             ckpt['epoch'], ckpt['acc']))\n",
    "            else:\n",
    "                print('loaded pretained MNIST encoder ', pretrained)\n",
    "    elif dataset == 'cub':\n",
    "        model_path = '/research/cbim/vast/tl601/projects/selfpaced/vgg16_caffe.pth'\n",
    "        vgg = models.vgg16()\n",
    "        # use pretrained model\n",
    "        print(\"Loading pretrained weights from %s\" % (model_path))\n",
    "        state_dict = torch.load(model_path)\n",
    "        vgg.load_state_dict({k: v for k, v in state_dict.items() if k in vgg.state_dict()})\n",
    "\n",
    "        net = nn.Sequential(*list(vgg.features._modules.values())[:-1])\n",
    "\n",
    "    if freeze == 1:\n",
    "        for name, value in net.named_parameters():\n",
    "            value.requires_grad = False\n",
    "        net.eval()\n",
    "\n",
    "    return net\n"
   ]
  },
  {
   "cell_type": "code",
   "execution_count": 6,
   "metadata": {},
   "outputs": [],
   "source": [
    "def cov(m, rowvar=True, inplace=False):\n",
    "    '''Estimate a covariance matrix given data.\n",
    "\n",
    "    Covariance indicates the level to which two variables vary together.\n",
    "    If we examine N-dimensional samples, `X = [x_1, x_2, ... x_N]^T`,\n",
    "    then the covariance matrix element `C_{ij}` is the covariance of\n",
    "    `x_i` and `x_j`. The element `C_{ii}` is the variance of `x_i`.\n",
    "\n",
    "    Args:\n",
    "        m: A 1-D or 2-D array containing multiple variables and observations.\n",
    "            Each row of `m` represents a variable, and each column a single\n",
    "            observation of all those variables.\n",
    "        rowvar: If `rowvar` is True, then each row represents a\n",
    "            variable, with observations in the columns. Otherwise, the\n",
    "            relationship is transposed: each column represents a variable,\n",
    "            while the rows contain observations.\n",
    "\n",
    "    Returns:\n",
    "        The covariance matrix of the variables.\n",
    "    '''\n",
    "    if m.dim() > 2:\n",
    "        raise ValueError('m has more than 2 dimensions')\n",
    "    if m.dim() < 2:\n",
    "        m = m.view(1, -1)\n",
    "    if not rowvar and m.size(0) != 1:\n",
    "        m = m.t()\n",
    "    # m = m.type(torch.double)  # uncomment this line if desired\n",
    "    fact = 1.0 / (m.size(1) - 1)\n",
    "    if inplace:\n",
    "        m -= torch.mean(m, dim=1, keepdim=True)\n",
    "    else:\n",
    "        m = m - torch.mean(m, dim=1, keepdim=True)\n",
    "    mt = m.t()  # if complex: mt = m.t().conj()\n",
    "    return fact * m.matmul(mt).squeeze()"
   ]
  },
  {
   "cell_type": "code",
   "execution_count": 7,
   "metadata": {},
   "outputs": [],
   "source": [
    "def get_matrix(data_loader, model):\n",
    "    count = 0\n",
    "    dim = 64 if dataset == 'mnist' else 512\n",
    "    wh = 42 if dataset == 'mnist' else 14\n",
    "    scale = 2. if dataset == 'mnist' else 16\n",
    "    embeds = torch.zeros((len(data_loader.dataset), dim, wh*wh)).to(device)\n",
    "    all_data,targets = [], []\n",
    "    for batch_idx, (data, target) in enumerate(data_loader):\n",
    "        batch_size = data.shape[0]\n",
    "        data, target = data.to(device), target.float()\n",
    "        targets.append(target)\n",
    "        all_data.append(data.cpu())\n",
    "\n",
    "        with torch.no_grad():\n",
    "            embed = model(data) # (bs, 64, 42, 42)\n",
    "\n",
    "        embeds[count: (count+batch_size)] = embed.view(batch_size, dim, -1)\n",
    "        count += batch_size\n",
    "\n",
    "    targets = torch.cat(targets)\n",
    "    all_data = torch.cat(all_data)\n",
    "    embeds = embeds.permute(1, 0, 2).reshape(dim, -1).permute(1,0).to(device) # (42*42*len(dataset), 64)\n",
    "\n",
    "    covmat = cov(embeds, rowvar=False) # (64, 64)\n",
    "    eigvals, eigvecs = la.eig(covmat.cpu().numpy())\n",
    "    sorted_indexes = np.argsort(eigvals)[::-1]\n",
    "    eigvals = eigvals[sorted_indexes]   # (64,)\n",
    "    eigvecs = eigvecs[:, sorted_indexes] # (64, 64)\n",
    "    eig_top = torch.from_numpy(eigvecs[:, 0]).to(device) # (64, )\n",
    "\n",
    "    '''predict'''\n",
    "    mean =  torch.mean(embeds, dim=0).squeeze() #(64,)\n",
    "    p_ij = eig_top.unsqueeze(0).matmul((embeds -  mean).t()) # [1, 42*42*len(dataset)]\n",
    "    p_ij = p_ij.reshape(len(data_loader.dataset), 1, wh, wh) # [len(dataset), 1, 42, 42]\n",
    "    P_ij = F.interpolate(p_ij, scale_factor=scale, mode='nearest').cpu().numpy() # (len(dataset), 1, 84, 84)\n",
    "    \n",
    "    return P_ij, all_data, targets"
   ]
  },
  {
   "cell_type": "code",
   "execution_count": 8,
   "metadata": {},
   "outputs": [],
   "source": [
    "# https://github.com/utkuozbulak/pytorch-cnn-visualizations/blob/16eddfa055a9c618ba548e9fb4529e2ccbc79c35/src/misc_functions.py#L77\n",
    "def apply_colormap_on_image(org_im, activation, colormap_name):\n",
    "    \"\"\"\n",
    "        Apply heatmap on image\n",
    "    Args:\n",
    "        org_img (PIL img): Original image\n",
    "        activation_map (numpy arr): Activation map (grayscale) 0-255\n",
    "        colormap_name (str): Name of the colormap\n",
    "    \"\"\"\n",
    "    # Get colormap\n",
    "    color_map = mpl_color_map.get_cmap(colormap_name)\n",
    "    no_trans_heatmap = color_map(activation)\n",
    "\n",
    "    # Change alpha channel in colormap to make sure original image is displayed\n",
    "    heatmap = copy.copy(no_trans_heatmap)\n",
    "    heatmap[:, :, 3] = 0.4\n",
    "    heatmap = Image.fromarray((heatmap*255).astype(np.uint8))\n",
    "    no_trans_heatmap = Image.fromarray((no_trans_heatmap*255).astype(np.uint8))\n",
    "\n",
    "    # Apply heatmap on iamge\n",
    "    heatmap_on_image = Image.new(\"RGBA\", org_im.size)\n",
    "    heatmap_on_image = Image.alpha_composite(heatmap_on_image, org_im.convert('RGBA'))\n",
    "    heatmap_on_image = Image.alpha_composite(heatmap_on_image, heatmap)\n",
    "    return no_trans_heatmap, heatmap_on_image"
   ]
  },
  {
   "cell_type": "code",
   "execution_count": 36,
   "metadata": {},
   "outputs": [],
   "source": [
    "'''plot heatmap'''\n",
    "\n",
    "def plot_heatmap(P_ij, all_data, dataset):\n",
    "    if dataset == 'cub':\n",
    "        unorm = UnNormalize(mean=(0.485, 0.456, 0.406), std=(0.229, 0.224, 0.225))\n",
    "    elif dataset == 'mnist':\n",
    "        unorm = UnNormalize(mean=(0.1307,), std=(0.3081,))\n",
    "        \n",
    "    for k, img in enumerate(P_ij):\n",
    "        org_img = unorm(all_data[k])\n",
    "        org_img_ = convert_image_np(org_img, norm=False)\n",
    "        org_img = (org_img_.copy() * 255).astype(np.uint8)\n",
    "        if dataset == 'mnist':\n",
    "            org_img = np.repeat(org_img, [3], axis=2)\n",
    "    \n",
    "        img = img.transpose(1,2,0)\n",
    "        thresh = cv2.threshold(img, 0, 1, cv2.THRESH_BINARY)[1]\n",
    "        \n",
    "        activation_map = np.clip(thresh, 0, 1).reshape(img_size, img_size)*255.\n",
    "        activation_map = 255. - activation_map\n",
    "        print('org_img ', org_img.shape, ' activation ma ', activation_map.shape)\n",
    "        \n",
    "        heatmap, heatmap_on_image = apply_colormap_on_image(Image.fromarray(org_img),\n",
    "                                                            activation_map.astype(np.uint8), 'viridis')#'hsv')\n",
    "        \n",
    "        # plot heat map\n",
    "        f, axarr = plt.subplots()\n",
    "        axarr.imshow(np.array(heatmap))\n",
    "        axarr.set_title('heatmap')\n",
    "        axarr.set_axis_off()\n",
    "        plt.show()\n",
    "        \n",
    "        # plot original image\n",
    "        f, axarr = plt.subplots()\n",
    "        axarr.imshow(org_img_, cmap='gray')\n",
    "        #axarr.set_title('heatmap')\n",
    "        axarr.set_axis_off()\n",
    "        plt.savefig('mnist_org_{}.png'.format(k), bbox_inches='tight', dpi=400)\n",
    "        plt.show()\n",
    "\n",
    "        f, axarr = plt.subplots()\n",
    "        axarr.imshow(np.array(heatmap_on_image))\n",
    "        #axarr.set_title('heatmap_on_image')\n",
    "        axarr.set_axis_off()\n",
    "        plt.savefig('mnist_org_heat_{}.png'.format(k), bbox_inches='tight', dpi=400)\n",
    "        plt.show()\n",
    "        if k == 6:\n",
    "            break"
   ]
  },
  {
   "cell_type": "code",
   "execution_count": 20,
   "metadata": {},
   "outputs": [],
   "source": [
    "def evaluate(P_ij, all_data, targets):\n",
    "    correct = 0\n",
    "    for k, img in enumerate(P_ij):\n",
    "        img = img.transpose(1,2,0)\n",
    "        thresh = cv2.threshold(img, 0, 1, cv2.THRESH_BINARY)[1]\n",
    "        thresh = 1 - thresh # turn bg to 0 # uncomment if fg is darker\n",
    "\n",
    "        # apply connected component analysis to the thresholded image\n",
    "        output = cv2.connectedComponentsWithStats(\n",
    "            np.uint8(thresh*255), 4, cv2.CV_32S)\n",
    "        (numLabels, labels, stats, centroids) = output\n",
    "\n",
    "        max_x, max_y, max_w, max_h = 0, 0, 0, 0\n",
    "        max_area = 0\n",
    "        # loop over the number of unique connected component labels\n",
    "        for i in range(0, numLabels):\n",
    "            # if this is the first component then we examine the\n",
    "            # *background* (typically we would just ignore this\n",
    "            # component in our loop)\n",
    "            if i == 0:\n",
    "                text = \"examining component {}/{} (background)\".format(\n",
    "                    i + 1, numLabels)\n",
    "            # otherwise, we are examining an actual connected component\n",
    "            else:\n",
    "                text = \"examining component {}/{}\".format(i + 1, numLabels)\n",
    "            # print a status message update for the current connected\n",
    "            # component\n",
    "\n",
    "            # extract the connected component statistics and centroid for\n",
    "            # the current label\n",
    "            x = stats[i, cv2.CC_STAT_LEFT]\n",
    "            y = stats[i, cv2.CC_STAT_TOP]\n",
    "            w = stats[i, cv2.CC_STAT_WIDTH]\n",
    "            h = stats[i, cv2.CC_STAT_HEIGHT]\n",
    "            area = stats[i, cv2.CC_STAT_AREA]\n",
    "            (cX, cY) = centroids[i]\n",
    "            #print(\"[INFO] {} area: {}\".format(text, area))\n",
    "            if i>0 and area > max_area:\n",
    "                max_x, max_y, max_w, max_h = x, y, w, h\n",
    "                max_area = area\n",
    "                #break\n",
    "                \n",
    "#         org_img = convert_image_np(all_data[0], norm=False)\n",
    "#         f, axarr = plt.subplots()\n",
    "#         axarr.imshow(thresh)\n",
    "#         axarr.set_title('thresh')\n",
    "#         patch = Rectangle((max_x, max_y), max_w, max_h, linewidth=1,\n",
    "#                           edgecolor='r', facecolor='none', fill=False)\n",
    "#         axarr.add_patch(patch)\n",
    "#         plt.title('{}'.format(k))\n",
    "#         plt.show()\n",
    "#         plt.imshow(org_img)\n",
    "#         plt.show()\n",
    "#         if k == 2:\n",
    "#             break\n",
    "        pred_boxes = torch.tensor([[max_x, max_y, max_x+max_w-1, max_y+max_h-1]], dtype=torch.float32)\n",
    "        iou = torch.diagonal(box_iou(pred_boxes,\n",
    "                                     targets[k].unsqueeze(0)), 0)\n",
    "        #print('iou ', iou)\n",
    "        correct += (iou >= 0.5).sum()\n",
    "\n",
    "    acc = 100. * correct / all_data.shape[0]\n",
    "    print('acc ', acc)\n",
    "    "
   ]
  },
  {
   "cell_type": "code",
   "execution_count": 21,
   "metadata": {},
   "outputs": [
    {
     "name": "stdout",
     "output_type": "stream",
     "text": [
      "loading random_patch data... \n",
      "loading random_patch data... \n",
      "total train image:  50  test image:  982\n",
      "load  encoder.0.weight\n",
      "load  encoder.0.bias\n",
      "load  encoder.2.weight\n",
      "load  encoder.2.bias\n",
      "load  encoder.4.weight\n",
      "load  encoder.4.bias\n",
      "loaded from pretrain_ae_ord_proj_50_lr1e03_scp5_digit3_lamb01_randpatch_stp80_self/last.pth.tar\n",
      "ckpt epoch 149 acc 94.65%\n"
     ]
    }
   ],
   "source": [
    "dataset = 'mnist'\n",
    "img_size = 84\n",
    "bg_name = 'random_patch'\n",
    "pretrained = 'pretrain_ae_ord_proj_50_lr1e03_scp5_digit3_lamb01_randpatch_stp80_self/last.pth.tar'\n",
    "train_loader, test_loader = init_dataloader(dataset, img_size, bg_name=bg_name)\n",
    "embed_net = init_model(dataset, pretrained=pretrained).to(device)"
   ]
  },
  {
   "cell_type": "code",
   "execution_count": 22,
   "metadata": {},
   "outputs": [
    {
     "name": "stdout",
     "output_type": "stream",
     "text": [
      "P_ij  (982, 1, 84, 84) torch.Size([982, 1, 84, 84]) torch.Size([982, 4])\n"
     ]
    }
   ],
   "source": [
    "P_ij, all_data, targets = get_matrix(test_loader, embed_net)\n",
    "print('P_ij ', P_ij.shape, all_data.shape, targets.shape)"
   ]
  },
  {
   "cell_type": "code",
   "execution_count": 37,
   "metadata": {},
   "outputs": [
    {
     "name": "stdout",
     "output_type": "stream",
     "text": [
      "org_img  (84, 84, 3)  activation ma  (84, 84)\n"
     ]
    },
    {
     "data": {
      "image/png": "[encoded data removed]",
      "text/plain": [
       "<Figure size 432x288 with 1 Axes>"
      ]
     },
     "metadata": {
      "needs_background": "light"
     },
     "output_type": "display_data"
    },
    {
     "data": {
      "image/png": "[encoded data removed]",
      "text/plain": [
       "<Figure size 432x288 with 1 Axes>"
      ]
     },
     "metadata": {
      "needs_background": "light"
     },
     "output_type": "display_data"
    },
    {
     "data": {
      "image/png": "[encoded data removed]",
      "text/plain": [
       "<Figure size 432x288 with 1 Axes>"
      ]
     },
     "metadata": {
      "needs_background": "light"
     },
     "output_type": "display_data"
    },
    {
     "name": "stdout",
     "output_type": "stream",
     "text": [
      "org_img  (84, 84, 3)  activation ma  (84, 84)\n"
     ]
    },
    {
     "data": {
      "image/png": "[encoded data removed]",
      "text/plain": [
       "<Figure size 432x288 with 1 Axes>"
      ]
     },
     "metadata": {
      "needs_background": "light"
     },
     "output_type": "display_data"
    },
    {
     "data": {
      "image/png": "[encoded data removed]",
      "text/plain": [
       "<Figure size 432x288 with 1 Axes>"
      ]
     },
     "metadata": {
      "needs_background": "light"
     },
     "output_type": "display_data"
    },
    {
     "data": {
      "image/png": "[encoded data removed]",
      "text/plain": [
       "<Figure size 432x288 with 1 Axes>"
      ]
     },
     "metadata": {
      "needs_background": "light"
     },
     "output_type": "display_data"
    },
    {
     "name": "stdout",
     "output_type": "stream",
     "text": [
      "org_img  (84, 84, 3)  activation ma  (84, 84)\n"
     ]
    },
    {
     "data": {
      "image/png": "[encoded data removed]",
      "text/plain": [
       "<Figure size 432x288 with 1 Axes>"
      ]
     },
     "metadata": {
      "needs_background": "light"
     },
     "output_type": "display_data"
    },
    {
     "data": {
      "image/png": "[encoded data removed]",
      "text/plain": [
       "<Figure size 432x288 with 1 Axes>"
      ]
     },
     "metadata": {
      "needs_background": "light"
     },
     "output_type": "display_data"
    },
    {
     "data": {
      "image/png": "[encoded data removed]",
      "text/plain": [
       "<Figure size 432x288 with 1 Axes>"
      ]
     },
     "metadata": {
      "needs_background": "light"
     },
     "output_type": "display_data"
    },
    {
     "name": "stdout",
     "output_type": "stream",
     "text": [
      "org_img  (84, 84, 3)  activation ma  (84, 84)\n"
     ]
    },
    {
     "data": {
      "image/png": "[encoded data removed]",
      "text/plain": [
       "<Figure size 432x288 with 1 Axes>"
      ]
     },
     "metadata": {
      "needs_background": "light"
     },
     "output_type": "display_data"
    },
    {
     "data": {
      "image/png": "[encoded data removed]",
      "text/plain": [
       "<Figure size 432x288 with 1 Axes>"
      ]
     },
     "metadata": {
      "needs_background": "light"
     },
     "output_type": "display_data"
    },
    {
     "data": {
      "image/png": "[encoded data removed]",
      "text/plain": [
       "<Figure size 432x288 with 1 Axes>"
      ]
     },
     "metadata": {
      "needs_background": "light"
     },
     "output_type": "display_data"
    },
    {
     "name": "stdout",
     "output_type": "stream",
     "text": [
      "org_img  (84, 84, 3)  activation ma  (84, 84)\n"
     ]
    },
    {
     "data": {
      "image/png": "[encoded data removed]",
      "text/plain": [
       "<Figure size 432x288 with 1 Axes>"
      ]
     },
     "metadata": {
      "needs_background": "light"
     },
     "output_type": "display_data"
    },
    {
     "data": {
      "image/png": "[encoded data removed]",
      "text/plain": [
       "<Figure size 432x288 with 1 Axes>"
      ]
     },
     "metadata": {
      "needs_background": "light"
     },
     "output_type": "display_data"
    },
    {
     "data": {
      "image/png": "[encoded data removed]",
      "text/plain": [
       "<Figure size 432x288 with 1 Axes>"
      ]
     },
     "metadata": {
      "needs_background": "light"
     },
     "output_type": "display_data"
    },
    {
     "name": "stdout",
     "output_type": "stream",
     "text": [
      "org_img  (84, 84, 3)  activation ma  (84, 84)\n"
     ]
    },
    {
     "data": {
      "image/png": "[encoded data removed]",
      "text/plain": [
       "<Figure size 432x288 with 1 Axes>"
      ]
     },
     "metadata": {
      "needs_background": "light"
     },
     "output_type": "display_data"
    },
    {
     "data": {
      "image/png": "[encoded data removed]",
      "text/plain": [
       "<Figure size 432x288 with 1 Axes>"
      ]
     },
     "metadata": {
      "needs_background": "light"
     },
     "output_type": "display_data"
    },
    {
     "data": {
      "image/png": "[encoded data removed]",
      "text/plain": [
       "<Figure size 432x288 with 1 Axes>"
      ]
     },
     "metadata": {
      "needs_background": "light"
     },
     "output_type": "display_data"
    },
    {
     "name": "stdout",
     "output_type": "stream",
     "text": [
      "org_img  (84, 84, 3)  activation ma  (84, 84)\n"
     ]
    },
    {
     "data": {
      "image/png": "[encoded data removed]",
      "text/plain": [
       "<Figure size 432x288 with 1 Axes>"
      ]
     },
     "metadata": {
      "needs_background": "light"
     },
     "output_type": "display_data"
    },
    {
     "data": {
      "image/png": "[encoded data removed]",
      "text/plain": [
       "<Figure size 432x288 with 1 Axes>"
      ]
     },
     "metadata": {
      "needs_background": "light"
     },
     "output_type": "display_data"
    },
    {
     "data": {
      "image/png": "[encoded data removed]",
      "text/plain": [
       "<Figure size 432x288 with 1 Axes>"
      ]
     },
     "metadata": {
      "needs_background": "light"
     },
     "output_type": "display_data"
    }
   ],
   "source": [
    "plot_heatmap(P_ij, all_data.clone(), dataset)"
   ]
  },
  {
   "cell_type": "code",
   "execution_count": null,
   "metadata": {},
   "outputs": [],
   "source": [
    "print('all_data ', all_data.shape)\n",
    "evaluate(P_ij, all_data, targets)"
   ]
  },
  {
   "cell_type": "code",
   "execution_count": null,
   "metadata": {},
   "outputs": [],
   "source": []
  }
 ],
 "metadata": {
  "kernelspec": {
   "display_name": "Python 3",
   "language": "python",
   "name": "python3"
  },
  "language_info": {
   "codemirror_mode": {
    "name": "ipython",
    "version": 3
   },
   "file_extension": ".py",
   "mimetype": "text/x-python",
   "name": "python",
   "nbconvert_exporter": "python",
   "pygments_lexer": "ipython3",
   "version": "3.6.12"
  }
 },
 "nbformat": 4,
 "nbformat_minor": 4
}
